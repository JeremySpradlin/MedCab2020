{
  "nbformat": 4,
  "nbformat_minor": 0,
  "metadata": {
    "colab": {
      "name": "medcab data analysis.ipynb",
      "provenance": [],
      "collapsed_sections": [],
      "toc_visible": true
    },
    "kernelspec": {
      "name": "python3",
      "display_name": "Python 3"
    }
  },
  "cells": [
    {
      "cell_type": "markdown",
      "metadata": {
        "id": "6ELeRQUr1jS8",
        "colab_type": "text"
      },
      "source": [
        "# Med Cab Unit 4 Notebook\n",
        "Notebook for Data analysis for DS17 Unit 4 Build week"
      ]
    },
    {
      "cell_type": "code",
      "metadata": {
        "id": "1Xkqrn3hUSZk",
        "colab_type": "code",
        "colab": {}
      },
      "source": [
        "# Imports\n",
        "import pandas as pd\n",
        "import numpy as np\n",
        "from sklearn.feature_extraction.text import TfidfVectorizer\n",
        "from sklearn.neighbors import NearestNeighbors\n",
        "import en_core_web_sm\n",
        "import spacy\n",
        "from spacy import load"
      ],
      "execution_count": 25,
      "outputs": []
    },
    {
      "cell_type": "code",
      "metadata": {
        "id": "VtvbeXNtUX0E",
        "colab_type": "code",
        "colab": {
          "base_uri": "https://localhost:8080/",
          "height": 293
        },
        "outputId": "8419ebb3-5ded-4ff6-91a9-e4a3da0f6154"
      },
      "source": [
        "url = 'https://raw.githubusercontent.com/build-week-ft-med-cabinet-3/datascience/master/data/toking.csv'\n",
        "\n",
        "df = pd.read_csv(url)\n",
        "\n",
        "df.head()"
      ],
      "execution_count": 2,
      "outputs": [
        {
          "output_type": "execute_result",
          "data": {
            "text/html": [
              "<div>\n",
              "<style scoped>\n",
              "    .dataframe tbody tr th:only-of-type {\n",
              "        vertical-align: middle;\n",
              "    }\n",
              "\n",
              "    .dataframe tbody tr th {\n",
              "        vertical-align: top;\n",
              "    }\n",
              "\n",
              "    .dataframe thead th {\n",
              "        text-align: right;\n",
              "    }\n",
              "</style>\n",
              "<table border=\"1\" class=\"dataframe\">\n",
              "  <thead>\n",
              "    <tr style=\"text-align: right;\">\n",
              "      <th></th>\n",
              "      <th>name</th>\n",
              "      <th>type</th>\n",
              "      <th>flavors</th>\n",
              "      <th>positive_effects</th>\n",
              "      <th>negative_effects</th>\n",
              "      <th>ailment</th>\n",
              "      <th>search</th>\n",
              "    </tr>\n",
              "  </thead>\n",
              "  <tbody>\n",
              "    <tr>\n",
              "      <th>0</th>\n",
              "      <td>Afpak</td>\n",
              "      <td>hybrid</td>\n",
              "      <td>Earthy, Chemical, Pine</td>\n",
              "      <td>Relaxed, Hungry, Happy, Sleepy</td>\n",
              "      <td>Dizzy</td>\n",
              "      <td>Depression, Insomnia, Pain, Stress, Lack of Ap...</td>\n",
              "      <td>Afpak,Relaxed, Hungry, Happy, Sleepy,Earthy, C...</td>\n",
              "    </tr>\n",
              "    <tr>\n",
              "      <th>1</th>\n",
              "      <td>African</td>\n",
              "      <td>sativa</td>\n",
              "      <td>Spicy/Herbal, Pungent, Earthy</td>\n",
              "      <td>Euphoric, Happy, Creative, Energetic, Talkative</td>\n",
              "      <td>Dry Mouth</td>\n",
              "      <td>Depression, Pain, Stress, Lack of Appetite, Na...</td>\n",
              "      <td>African,Euphoric, Happy, Creative, Energetic, ...</td>\n",
              "    </tr>\n",
              "    <tr>\n",
              "      <th>2</th>\n",
              "      <td>Afternoon Delight</td>\n",
              "      <td>hybrid</td>\n",
              "      <td>Pepper, Flowery, Pine</td>\n",
              "      <td>Relaxed, Hungry, Euphoric, Uplifted, Tingly</td>\n",
              "      <td>Dizzy, Dry Mouth, Paranoid</td>\n",
              "      <td>Depression, Insomnia, Pain, Stress, Cramps, He...</td>\n",
              "      <td>Afternoon Delight,Relaxed, Hungry, Euphoric, U...</td>\n",
              "    </tr>\n",
              "    <tr>\n",
              "      <th>3</th>\n",
              "      <td>Afwreck</td>\n",
              "      <td>hybrid</td>\n",
              "      <td>Pine, Earthy, Flowery</td>\n",
              "      <td>Relaxed, Happy, Creative, Uplifted, Sleepy</td>\n",
              "      <td>Dizzy, Dry Mouth, Paranoid, Dry Eyes</td>\n",
              "      <td>Pain, Stress, Headache, Fatigue, Headaches, Mu...</td>\n",
              "      <td>Afwreck,Relaxed, Happy, Creative, Uplifted, Sl...</td>\n",
              "    </tr>\n",
              "    <tr>\n",
              "      <th>4</th>\n",
              "      <td>Agent Orange</td>\n",
              "      <td>hybrid</td>\n",
              "      <td>Citrus, Orange, Sweet</td>\n",
              "      <td>Relaxed, Euphoric, Happy, Energetic, Uplifted</td>\n",
              "      <td>Dizzy, Dry Mouth, Paranoid, Dry Eyes</td>\n",
              "      <td>Depression, Pain, Stress, Nausea, Headache, He...</td>\n",
              "      <td>Agent Orange,Relaxed, Euphoric, Happy, Energet...</td>\n",
              "    </tr>\n",
              "  </tbody>\n",
              "</table>\n",
              "</div>"
            ],
            "text/plain": [
              "                name  ...                                             search\n",
              "0              Afpak  ...  Afpak,Relaxed, Hungry, Happy, Sleepy,Earthy, C...\n",
              "1            African  ...  African,Euphoric, Happy, Creative, Energetic, ...\n",
              "2  Afternoon Delight  ...  Afternoon Delight,Relaxed, Hungry, Euphoric, U...\n",
              "3            Afwreck  ...  Afwreck,Relaxed, Happy, Creative, Uplifted, Sl...\n",
              "4       Agent Orange  ...  Agent Orange,Relaxed, Euphoric, Happy, Energet...\n",
              "\n",
              "[5 rows x 7 columns]"
            ]
          },
          "metadata": {
            "tags": []
          },
          "execution_count": 2
        }
      ]
    },
    {
      "cell_type": "code",
      "metadata": {
        "id": "HW-k5meGUhaY",
        "colab_type": "code",
        "colab": {
          "base_uri": "https://localhost:8080/",
          "height": 35
        },
        "outputId": "2342c48d-1392-460b-a63d-6c6272d01cc5"
      },
      "source": [
        "df.shape"
      ],
      "execution_count": 3,
      "outputs": [
        {
          "output_type": "execute_result",
          "data": {
            "text/plain": [
              "(1970, 7)"
            ]
          },
          "metadata": {
            "tags": []
          },
          "execution_count": 3
        }
      ]
    },
    {
      "cell_type": "markdown",
      "metadata": {
        "id": "NxTWIJzIUk5c",
        "colab_type": "text"
      },
      "source": [
        "### List of TODOs:\n",
        "- Tokenze relevant columns\n",
        "  - Are we just using ailments?  Or do we also want to include Positive effects?  Negative?\n",
        "- Nearest Neighbors model\n",
        "  - Initially will only play with ailments\n",
        "  - Explore the `search` column\n"
      ]
    },
    {
      "cell_type": "code",
      "metadata": {
        "id": "HZRpkMIEgVaP",
        "colab_type": "code",
        "colab": {}
      },
      "source": [
        "df['ailment'] = df['ailment'].astype(str)"
      ],
      "execution_count": 4,
      "outputs": []
    },
    {
      "cell_type": "code",
      "metadata": {
        "id": "dFAWeh8jZnsk",
        "colab_type": "code",
        "colab": {}
      },
      "source": [
        "for tokens in df['ailment']:\n",
        "  if type(tokens) == float:\n",
        "    print(tokens)"
      ],
      "execution_count": 5,
      "outputs": []
    },
    {
      "cell_type": "code",
      "metadata": {
        "id": "-8tX0e7FYPip",
        "colab_type": "code",
        "colab": {}
      },
      "source": [
        "# Tokenize columns\n",
        "nlp= en_core_web_sm.load()"
      ],
      "execution_count": 6,
      "outputs": []
    },
    {
      "cell_type": "code",
      "metadata": {
        "id": "k6vDonnZbOOM",
        "colab_type": "code",
        "colab": {}
      },
      "source": [
        "def tokenizer(text):\n",
        "    doc=nlp(str(text).lower())\n",
        "    return [token.lemma_ for token in doc if ((token.is_stop == False) and\n",
        "    (token.is_punct == False)) and (token.pos_ != 'PRON')]"
      ],
      "execution_count": 7,
      "outputs": []
    },
    {
      "cell_type": "code",
      "metadata": {
        "id": "PJM6RWqOdn5T",
        "colab_type": "code",
        "colab": {}
      },
      "source": [
        "df['tokens'] = df['ailment'].apply(tokenizer)"
      ],
      "execution_count": 8,
      "outputs": []
    },
    {
      "cell_type": "code",
      "metadata": {
        "id": "v2oTGpmG4PXr",
        "colab_type": "code",
        "colab": {
          "base_uri": "https://localhost:8080/",
          "height": 293
        },
        "outputId": "3903425e-1553-4955-ddc6-2e293e579f45"
      },
      "source": [
        "df.head()"
      ],
      "execution_count": 9,
      "outputs": [
        {
          "output_type": "execute_result",
          "data": {
            "text/html": [
              "<div>\n",
              "<style scoped>\n",
              "    .dataframe tbody tr th:only-of-type {\n",
              "        vertical-align: middle;\n",
              "    }\n",
              "\n",
              "    .dataframe tbody tr th {\n",
              "        vertical-align: top;\n",
              "    }\n",
              "\n",
              "    .dataframe thead th {\n",
              "        text-align: right;\n",
              "    }\n",
              "</style>\n",
              "<table border=\"1\" class=\"dataframe\">\n",
              "  <thead>\n",
              "    <tr style=\"text-align: right;\">\n",
              "      <th></th>\n",
              "      <th>name</th>\n",
              "      <th>type</th>\n",
              "      <th>flavors</th>\n",
              "      <th>positive_effects</th>\n",
              "      <th>negative_effects</th>\n",
              "      <th>ailment</th>\n",
              "      <th>search</th>\n",
              "      <th>tokens</th>\n",
              "    </tr>\n",
              "  </thead>\n",
              "  <tbody>\n",
              "    <tr>\n",
              "      <th>0</th>\n",
              "      <td>Afpak</td>\n",
              "      <td>hybrid</td>\n",
              "      <td>Earthy, Chemical, Pine</td>\n",
              "      <td>Relaxed, Hungry, Happy, Sleepy</td>\n",
              "      <td>Dizzy</td>\n",
              "      <td>Depression, Insomnia, Pain, Stress, Lack of Ap...</td>\n",
              "      <td>Afpak,Relaxed, Hungry, Happy, Sleepy,Earthy, C...</td>\n",
              "      <td>[depression, insomnia, pain, stress, lack, app...</td>\n",
              "    </tr>\n",
              "    <tr>\n",
              "      <th>1</th>\n",
              "      <td>African</td>\n",
              "      <td>sativa</td>\n",
              "      <td>Spicy/Herbal, Pungent, Earthy</td>\n",
              "      <td>Euphoric, Happy, Creative, Energetic, Talkative</td>\n",
              "      <td>Dry Mouth</td>\n",
              "      <td>Depression, Pain, Stress, Lack of Appetite, Na...</td>\n",
              "      <td>African,Euphoric, Happy, Creative, Energetic, ...</td>\n",
              "      <td>[depression, pain, stress, lack, appetite, nau...</td>\n",
              "    </tr>\n",
              "    <tr>\n",
              "      <th>2</th>\n",
              "      <td>Afternoon Delight</td>\n",
              "      <td>hybrid</td>\n",
              "      <td>Pepper, Flowery, Pine</td>\n",
              "      <td>Relaxed, Hungry, Euphoric, Uplifted, Tingly</td>\n",
              "      <td>Dizzy, Dry Mouth, Paranoid</td>\n",
              "      <td>Depression, Insomnia, Pain, Stress, Cramps, He...</td>\n",
              "      <td>Afternoon Delight,Relaxed, Hungry, Euphoric, U...</td>\n",
              "      <td>[depression, insomnia, pain, stress, cramp, he...</td>\n",
              "    </tr>\n",
              "    <tr>\n",
              "      <th>3</th>\n",
              "      <td>Afwreck</td>\n",
              "      <td>hybrid</td>\n",
              "      <td>Pine, Earthy, Flowery</td>\n",
              "      <td>Relaxed, Happy, Creative, Uplifted, Sleepy</td>\n",
              "      <td>Dizzy, Dry Mouth, Paranoid, Dry Eyes</td>\n",
              "      <td>Pain, Stress, Headache, Fatigue, Headaches, Mu...</td>\n",
              "      <td>Afwreck,Relaxed, Happy, Creative, Uplifted, Sl...</td>\n",
              "      <td>[pain, stress, headache, fatigue, headache, mu...</td>\n",
              "    </tr>\n",
              "    <tr>\n",
              "      <th>4</th>\n",
              "      <td>Agent Orange</td>\n",
              "      <td>hybrid</td>\n",
              "      <td>Citrus, Orange, Sweet</td>\n",
              "      <td>Relaxed, Euphoric, Happy, Energetic, Uplifted</td>\n",
              "      <td>Dizzy, Dry Mouth, Paranoid, Dry Eyes</td>\n",
              "      <td>Depression, Pain, Stress, Nausea, Headache, He...</td>\n",
              "      <td>Agent Orange,Relaxed, Euphoric, Happy, Energet...</td>\n",
              "      <td>[depression, pain, stress, nausea, headache, h...</td>\n",
              "    </tr>\n",
              "  </tbody>\n",
              "</table>\n",
              "</div>"
            ],
            "text/plain": [
              "                name  ...                                             tokens\n",
              "0              Afpak  ...  [depression, insomnia, pain, stress, lack, app...\n",
              "1            African  ...  [depression, pain, stress, lack, appetite, nau...\n",
              "2  Afternoon Delight  ...  [depression, insomnia, pain, stress, cramp, he...\n",
              "3            Afwreck  ...  [pain, stress, headache, fatigue, headache, mu...\n",
              "4       Agent Orange  ...  [depression, pain, stress, nausea, headache, h...\n",
              "\n",
              "[5 rows x 8 columns]"
            ]
          },
          "metadata": {
            "tags": []
          },
          "execution_count": 9
        }
      ]
    },
    {
      "cell_type": "code",
      "metadata": {
        "id": "7R3PcYf9N9wZ",
        "colab_type": "code",
        "colab": {}
      },
      "source": [
        "df.dropna(inplace=True)"
      ],
      "execution_count": 10,
      "outputs": []
    },
    {
      "cell_type": "code",
      "metadata": {
        "id": "Y-a1dutrOOpc",
        "colab_type": "code",
        "colab": {}
      },
      "source": [
        "tokenset = set()\n",
        "\n",
        "for tokens in df['tokens']:\n",
        "  for token in tokens:\n",
        "    tokenset.add(token)"
      ],
      "execution_count": 11,
      "outputs": []
    },
    {
      "cell_type": "code",
      "metadata": {
        "id": "7BE8M6skOQTS",
        "colab_type": "code",
        "colab": {
          "base_uri": "https://localhost:8080/",
          "height": 352
        },
        "outputId": "0bc4363d-f849-4b8f-b112-11a63d045604"
      },
      "source": [
        "tokenset"
      ],
      "execution_count": 12,
      "outputs": [
        {
          "output_type": "execute_result",
          "data": {
            "text/plain": [
              "{'appetite',\n",
              " 'cramp',\n",
              " 'depression',\n",
              " 'eye',\n",
              " 'fatigue',\n",
              " 'headache',\n",
              " 'inflammation',\n",
              " 'insomnia',\n",
              " 'lack',\n",
              " 'muscle',\n",
              " 'nan',\n",
              " 'nausea',\n",
              " 'pain',\n",
              " 'pressure',\n",
              " 'seizure',\n",
              " 'spasm',\n",
              " 'spasms',\n",
              " 'spasticity',\n",
              " 'stress'}"
            ]
          },
          "metadata": {
            "tags": []
          },
          "execution_count": 12
        }
      ]
    },
    {
      "cell_type": "markdown",
      "metadata": {
        "id": "49oBV0GFORDR",
        "colab_type": "text"
      },
      "source": [
        "### Combining datasets\n"
      ]
    },
    {
      "cell_type": "code",
      "metadata": {
        "id": "1NVWKorR2jbt",
        "colab_type": "code",
        "colab": {
          "base_uri": "https://localhost:8080/",
          "height": 206
        },
        "outputId": "d0078819-9e4c-47d2-a33d-44402114c425"
      },
      "source": [
        "url2 = 'https://raw.githubusercontent.com/med-cab-1/data_engineer/master/Data/cannabis_new.csv'\n",
        "\n",
        "df2 = pd.read_csv(url2)\n",
        "df2.head()"
      ],
      "execution_count": 13,
      "outputs": [
        {
          "output_type": "execute_result",
          "data": {
            "text/html": [
              "<div>\n",
              "<style scoped>\n",
              "    .dataframe tbody tr th:only-of-type {\n",
              "        vertical-align: middle;\n",
              "    }\n",
              "\n",
              "    .dataframe tbody tr th {\n",
              "        vertical-align: top;\n",
              "    }\n",
              "\n",
              "    .dataframe thead th {\n",
              "        text-align: right;\n",
              "    }\n",
              "</style>\n",
              "<table border=\"1\" class=\"dataframe\">\n",
              "  <thead>\n",
              "    <tr style=\"text-align: right;\">\n",
              "      <th></th>\n",
              "      <th>Index</th>\n",
              "      <th>Strain</th>\n",
              "      <th>Type</th>\n",
              "      <th>Rating</th>\n",
              "      <th>Effects</th>\n",
              "      <th>Description</th>\n",
              "      <th>Flavors</th>\n",
              "      <th>Nearest</th>\n",
              "    </tr>\n",
              "  </thead>\n",
              "  <tbody>\n",
              "    <tr>\n",
              "      <th>0</th>\n",
              "      <td>0</td>\n",
              "      <td>Kelly Hill Gold</td>\n",
              "      <td>indica</td>\n",
              "      <td>5.0</td>\n",
              "      <td>Happy,Energetic,Euphoric,Talkative,Aroused</td>\n",
              "      <td>Cultivated by Joseph Arthur Botanicals in Colo...</td>\n",
              "      <td>Pepper,Earthy,Coffee</td>\n",
              "      <td>0,992,897,439,184,1877</td>\n",
              "    </tr>\n",
              "    <tr>\n",
              "      <th>1</th>\n",
              "      <td>1</td>\n",
              "      <td>Spyder Mon</td>\n",
              "      <td>hybrid</td>\n",
              "      <td>5.0</td>\n",
              "      <td>Uplifted,Creative,Focused,Happy,Relaxed</td>\n",
              "      <td>Spyder Mon is an uplifting CBD strain with a g...</td>\n",
              "      <td>Citrus,Earthy,Sweet</td>\n",
              "      <td>1,218,157,1627,223,742</td>\n",
              "    </tr>\n",
              "    <tr>\n",
              "      <th>2</th>\n",
              "      <td>2</td>\n",
              "      <td>Mochi</td>\n",
              "      <td>hybrid</td>\n",
              "      <td>5.0</td>\n",
              "      <td>Sleepy,Happy,Hungry,Relaxed,Tingly</td>\n",
              "      <td>Mochi by Sherbinski is another strain that lea...</td>\n",
              "      <td>Pungent,Minty,Flowery</td>\n",
              "      <td>2,614,457,208,705,130</td>\n",
              "    </tr>\n",
              "    <tr>\n",
              "      <th>3</th>\n",
              "      <td>3</td>\n",
              "      <td>Molokai Purpz</td>\n",
              "      <td>indica</td>\n",
              "      <td>5.0</td>\n",
              "      <td>Aroused,Creative,Euphoric,Relaxed,Sleepy</td>\n",
              "      <td>Moloka’i Purpz is a luscious Hawaiian landrace...</td>\n",
              "      <td>Berry,Grape,Sweet</td>\n",
              "      <td>3,1478,562,1063,50,390</td>\n",
              "    </tr>\n",
              "    <tr>\n",
              "      <th>4</th>\n",
              "      <td>4</td>\n",
              "      <td>Monolith</td>\n",
              "      <td>indica</td>\n",
              "      <td>5.0</td>\n",
              "      <td>Relaxed,Sleepy,Tingly,Euphoric,Focused</td>\n",
              "      <td>Monolith is an indica-dominant strain with Afg...</td>\n",
              "      <td>Pungent,Earthy,Pine</td>\n",
              "      <td>4,1397,862,1094,214,141</td>\n",
              "    </tr>\n",
              "  </tbody>\n",
              "</table>\n",
              "</div>"
            ],
            "text/plain": [
              "   Index           Strain  ...                Flavors                  Nearest\n",
              "0      0  Kelly Hill Gold  ...   Pepper,Earthy,Coffee   0,992,897,439,184,1877\n",
              "1      1       Spyder Mon  ...    Citrus,Earthy,Sweet   1,218,157,1627,223,742\n",
              "2      2            Mochi  ...  Pungent,Minty,Flowery    2,614,457,208,705,130\n",
              "3      3    Molokai Purpz  ...      Berry,Grape,Sweet   3,1478,562,1063,50,390\n",
              "4      4         Monolith  ...    Pungent,Earthy,Pine  4,1397,862,1094,214,141\n",
              "\n",
              "[5 rows x 8 columns]"
            ]
          },
          "metadata": {
            "tags": []
          },
          "execution_count": 13
        }
      ]
    },
    {
      "cell_type": "code",
      "metadata": {
        "id": "Qwcb9qpH2v8k",
        "colab_type": "code",
        "colab": {
          "base_uri": "https://localhost:8080/",
          "height": 293
        },
        "outputId": "cd554670-bc30-43af-a5fd-4129ee2ba5b6"
      },
      "source": [
        "df.head()"
      ],
      "execution_count": 14,
      "outputs": [
        {
          "output_type": "execute_result",
          "data": {
            "text/html": [
              "<div>\n",
              "<style scoped>\n",
              "    .dataframe tbody tr th:only-of-type {\n",
              "        vertical-align: middle;\n",
              "    }\n",
              "\n",
              "    .dataframe tbody tr th {\n",
              "        vertical-align: top;\n",
              "    }\n",
              "\n",
              "    .dataframe thead th {\n",
              "        text-align: right;\n",
              "    }\n",
              "</style>\n",
              "<table border=\"1\" class=\"dataframe\">\n",
              "  <thead>\n",
              "    <tr style=\"text-align: right;\">\n",
              "      <th></th>\n",
              "      <th>name</th>\n",
              "      <th>type</th>\n",
              "      <th>flavors</th>\n",
              "      <th>positive_effects</th>\n",
              "      <th>negative_effects</th>\n",
              "      <th>ailment</th>\n",
              "      <th>search</th>\n",
              "      <th>tokens</th>\n",
              "    </tr>\n",
              "  </thead>\n",
              "  <tbody>\n",
              "    <tr>\n",
              "      <th>0</th>\n",
              "      <td>Afpak</td>\n",
              "      <td>hybrid</td>\n",
              "      <td>Earthy, Chemical, Pine</td>\n",
              "      <td>Relaxed, Hungry, Happy, Sleepy</td>\n",
              "      <td>Dizzy</td>\n",
              "      <td>Depression, Insomnia, Pain, Stress, Lack of Ap...</td>\n",
              "      <td>Afpak,Relaxed, Hungry, Happy, Sleepy,Earthy, C...</td>\n",
              "      <td>[depression, insomnia, pain, stress, lack, app...</td>\n",
              "    </tr>\n",
              "    <tr>\n",
              "      <th>1</th>\n",
              "      <td>African</td>\n",
              "      <td>sativa</td>\n",
              "      <td>Spicy/Herbal, Pungent, Earthy</td>\n",
              "      <td>Euphoric, Happy, Creative, Energetic, Talkative</td>\n",
              "      <td>Dry Mouth</td>\n",
              "      <td>Depression, Pain, Stress, Lack of Appetite, Na...</td>\n",
              "      <td>African,Euphoric, Happy, Creative, Energetic, ...</td>\n",
              "      <td>[depression, pain, stress, lack, appetite, nau...</td>\n",
              "    </tr>\n",
              "    <tr>\n",
              "      <th>2</th>\n",
              "      <td>Afternoon Delight</td>\n",
              "      <td>hybrid</td>\n",
              "      <td>Pepper, Flowery, Pine</td>\n",
              "      <td>Relaxed, Hungry, Euphoric, Uplifted, Tingly</td>\n",
              "      <td>Dizzy, Dry Mouth, Paranoid</td>\n",
              "      <td>Depression, Insomnia, Pain, Stress, Cramps, He...</td>\n",
              "      <td>Afternoon Delight,Relaxed, Hungry, Euphoric, U...</td>\n",
              "      <td>[depression, insomnia, pain, stress, cramp, he...</td>\n",
              "    </tr>\n",
              "    <tr>\n",
              "      <th>3</th>\n",
              "      <td>Afwreck</td>\n",
              "      <td>hybrid</td>\n",
              "      <td>Pine, Earthy, Flowery</td>\n",
              "      <td>Relaxed, Happy, Creative, Uplifted, Sleepy</td>\n",
              "      <td>Dizzy, Dry Mouth, Paranoid, Dry Eyes</td>\n",
              "      <td>Pain, Stress, Headache, Fatigue, Headaches, Mu...</td>\n",
              "      <td>Afwreck,Relaxed, Happy, Creative, Uplifted, Sl...</td>\n",
              "      <td>[pain, stress, headache, fatigue, headache, mu...</td>\n",
              "    </tr>\n",
              "    <tr>\n",
              "      <th>4</th>\n",
              "      <td>Agent Orange</td>\n",
              "      <td>hybrid</td>\n",
              "      <td>Citrus, Orange, Sweet</td>\n",
              "      <td>Relaxed, Euphoric, Happy, Energetic, Uplifted</td>\n",
              "      <td>Dizzy, Dry Mouth, Paranoid, Dry Eyes</td>\n",
              "      <td>Depression, Pain, Stress, Nausea, Headache, He...</td>\n",
              "      <td>Agent Orange,Relaxed, Euphoric, Happy, Energet...</td>\n",
              "      <td>[depression, pain, stress, nausea, headache, h...</td>\n",
              "    </tr>\n",
              "  </tbody>\n",
              "</table>\n",
              "</div>"
            ],
            "text/plain": [
              "                name  ...                                             tokens\n",
              "0              Afpak  ...  [depression, insomnia, pain, stress, lack, app...\n",
              "1            African  ...  [depression, pain, stress, lack, appetite, nau...\n",
              "2  Afternoon Delight  ...  [depression, insomnia, pain, stress, cramp, he...\n",
              "3            Afwreck  ...  [pain, stress, headache, fatigue, headache, mu...\n",
              "4       Agent Orange  ...  [depression, pain, stress, nausea, headache, h...\n",
              "\n",
              "[5 rows x 8 columns]"
            ]
          },
          "metadata": {
            "tags": []
          },
          "execution_count": 14
        }
      ]
    },
    {
      "cell_type": "code",
      "metadata": {
        "id": "p33hx3cL2xyO",
        "colab_type": "code",
        "colab": {}
      },
      "source": [
        "df2['name'] = df2['Strain']"
      ],
      "execution_count": 15,
      "outputs": []
    },
    {
      "cell_type": "code",
      "metadata": {
        "id": "OL3AZqzz27MR",
        "colab_type": "code",
        "colab": {
          "base_uri": "https://localhost:8080/",
          "height": 187
        },
        "outputId": "aae0f4f2-791a-41f5-bdae-e751a4ec57eb"
      },
      "source": [
        "df2.reset_index()\n",
        "\n",
        "full_df = df.merge(df2, on='name', how='left')\n",
        "\n",
        "full_df.head(1)"
      ],
      "execution_count": 16,
      "outputs": [
        {
          "output_type": "execute_result",
          "data": {
            "text/html": [
              "<div>\n",
              "<style scoped>\n",
              "    .dataframe tbody tr th:only-of-type {\n",
              "        vertical-align: middle;\n",
              "    }\n",
              "\n",
              "    .dataframe tbody tr th {\n",
              "        vertical-align: top;\n",
              "    }\n",
              "\n",
              "    .dataframe thead th {\n",
              "        text-align: right;\n",
              "    }\n",
              "</style>\n",
              "<table border=\"1\" class=\"dataframe\">\n",
              "  <thead>\n",
              "    <tr style=\"text-align: right;\">\n",
              "      <th></th>\n",
              "      <th>name</th>\n",
              "      <th>type</th>\n",
              "      <th>flavors</th>\n",
              "      <th>positive_effects</th>\n",
              "      <th>negative_effects</th>\n",
              "      <th>ailment</th>\n",
              "      <th>search</th>\n",
              "      <th>tokens</th>\n",
              "      <th>Index</th>\n",
              "      <th>Strain</th>\n",
              "      <th>Type</th>\n",
              "      <th>Rating</th>\n",
              "      <th>Effects</th>\n",
              "      <th>Description</th>\n",
              "      <th>Flavors</th>\n",
              "      <th>Nearest</th>\n",
              "    </tr>\n",
              "  </thead>\n",
              "  <tbody>\n",
              "    <tr>\n",
              "      <th>0</th>\n",
              "      <td>Afpak</td>\n",
              "      <td>hybrid</td>\n",
              "      <td>Earthy, Chemical, Pine</td>\n",
              "      <td>Relaxed, Hungry, Happy, Sleepy</td>\n",
              "      <td>Dizzy</td>\n",
              "      <td>Depression, Insomnia, Pain, Stress, Lack of Ap...</td>\n",
              "      <td>Afpak,Relaxed, Hungry, Happy, Sleepy,Earthy, C...</td>\n",
              "      <td>[depression, insomnia, pain, stress, lack, app...</td>\n",
              "      <td>1667.0</td>\n",
              "      <td>Afpak</td>\n",
              "      <td>hybrid</td>\n",
              "      <td>3.18</td>\n",
              "      <td>Relaxed,Creative,Focused,Sleepy,Happy</td>\n",
              "      <td>Afpak, named for its direct Afghani and Pakist...</td>\n",
              "      <td>Pine,Spicy/Herbal,Earthy</td>\n",
              "      <td>1667,428,378,1008,1052,1968</td>\n",
              "    </tr>\n",
              "  </tbody>\n",
              "</table>\n",
              "</div>"
            ],
            "text/plain": [
              "    name    type  ...                   Flavors                      Nearest\n",
              "0  Afpak  hybrid  ...  Pine,Spicy/Herbal,Earthy  1667,428,378,1008,1052,1968\n",
              "\n",
              "[1 rows x 16 columns]"
            ]
          },
          "metadata": {
            "tags": []
          },
          "execution_count": 16
        }
      ]
    },
    {
      "cell_type": "code",
      "metadata": {
        "id": "SWTA8nLm3nWL",
        "colab_type": "code",
        "colab": {
          "base_uri": "https://localhost:8080/",
          "height": 35
        },
        "outputId": "36496a21-5cbe-4159-fbfa-5699954d7159"
      },
      "source": [
        "full_df.shape"
      ],
      "execution_count": 17,
      "outputs": [
        {
          "output_type": "execute_result",
          "data": {
            "text/plain": [
              "(1968, 16)"
            ]
          },
          "metadata": {
            "tags": []
          },
          "execution_count": 17
        }
      ]
    },
    {
      "cell_type": "code",
      "metadata": {
        "id": "6R-1fP1Q4Q3C",
        "colab_type": "code",
        "colab": {
          "base_uri": "https://localhost:8080/",
          "height": 293
        },
        "outputId": "40f60050-7757-4509-dadb-d250cdc4f3f4"
      },
      "source": [
        "df = full_df[['name', 'Rating', 'type', 'ailment', 'positive_effects', 'negative_effects', 'Description', 'Effects', 'flavors']]\n",
        "\n",
        "df.head()"
      ],
      "execution_count": 21,
      "outputs": [
        {
          "output_type": "execute_result",
          "data": {
            "text/html": [
              "<div>\n",
              "<style scoped>\n",
              "    .dataframe tbody tr th:only-of-type {\n",
              "        vertical-align: middle;\n",
              "    }\n",
              "\n",
              "    .dataframe tbody tr th {\n",
              "        vertical-align: top;\n",
              "    }\n",
              "\n",
              "    .dataframe thead th {\n",
              "        text-align: right;\n",
              "    }\n",
              "</style>\n",
              "<table border=\"1\" class=\"dataframe\">\n",
              "  <thead>\n",
              "    <tr style=\"text-align: right;\">\n",
              "      <th></th>\n",
              "      <th>name</th>\n",
              "      <th>Rating</th>\n",
              "      <th>type</th>\n",
              "      <th>ailment</th>\n",
              "      <th>positive_effects</th>\n",
              "      <th>negative_effects</th>\n",
              "      <th>Description</th>\n",
              "      <th>Effects</th>\n",
              "      <th>flavors</th>\n",
              "    </tr>\n",
              "  </thead>\n",
              "  <tbody>\n",
              "    <tr>\n",
              "      <th>0</th>\n",
              "      <td>Afpak</td>\n",
              "      <td>3.18</td>\n",
              "      <td>hybrid</td>\n",
              "      <td>Depression, Insomnia, Pain, Stress, Lack of Ap...</td>\n",
              "      <td>Relaxed, Hungry, Happy, Sleepy</td>\n",
              "      <td>Dizzy</td>\n",
              "      <td>Afpak, named for its direct Afghani and Pakist...</td>\n",
              "      <td>Relaxed,Creative,Focused,Sleepy,Happy</td>\n",
              "      <td>Earthy, Chemical, Pine</td>\n",
              "    </tr>\n",
              "    <tr>\n",
              "      <th>1</th>\n",
              "      <td>African</td>\n",
              "      <td>2.50</td>\n",
              "      <td>sativa</td>\n",
              "      <td>Depression, Pain, Stress, Lack of Appetite, Na...</td>\n",
              "      <td>Euphoric, Happy, Creative, Energetic, Talkative</td>\n",
              "      <td>Dry Mouth</td>\n",
              "      <td>African refers to the indigenous varieties of ...</td>\n",
              "      <td>Euphoric,Energetic,Aroused,Tingly,Creative</td>\n",
              "      <td>Spicy/Herbal, Pungent, Earthy</td>\n",
              "    </tr>\n",
              "    <tr>\n",
              "      <th>2</th>\n",
              "      <td>Afternoon Delight</td>\n",
              "      <td>4.55</td>\n",
              "      <td>hybrid</td>\n",
              "      <td>Depression, Insomnia, Pain, Stress, Cramps, He...</td>\n",
              "      <td>Relaxed, Hungry, Euphoric, Uplifted, Tingly</td>\n",
              "      <td>Dizzy, Dry Mouth, Paranoid</td>\n",
              "      <td>Afternoon Delight, created by Colorado Seed In...</td>\n",
              "      <td>Talkative,Relaxed,Uplifted,Tingly,Creative</td>\n",
              "      <td>Pepper, Flowery, Pine</td>\n",
              "    </tr>\n",
              "    <tr>\n",
              "      <th>3</th>\n",
              "      <td>Afwreck</td>\n",
              "      <td>3.18</td>\n",
              "      <td>hybrid</td>\n",
              "      <td>Pain, Stress, Headache, Fatigue, Headaches, Mu...</td>\n",
              "      <td>Relaxed, Happy, Creative, Uplifted, Sleepy</td>\n",
              "      <td>Dizzy, Dry Mouth, Paranoid, Dry Eyes</td>\n",
              "      <td>Afwreck is a hybrid cross of Afghani and Train...</td>\n",
              "      <td>Euphoric,Happy,Uplifted,Relaxed,Sleepy</td>\n",
              "      <td>Pine, Earthy, Flowery</td>\n",
              "    </tr>\n",
              "    <tr>\n",
              "      <th>4</th>\n",
              "      <td>Agent Orange</td>\n",
              "      <td>3.18</td>\n",
              "      <td>hybrid</td>\n",
              "      <td>Depression, Pain, Stress, Nausea, Headache, He...</td>\n",
              "      <td>Relaxed, Euphoric, Happy, Energetic, Uplifted</td>\n",
              "      <td>Dizzy, Dry Mouth, Paranoid, Dry Eyes</td>\n",
              "      <td>Don’t let the name scare you! The only herbici...</td>\n",
              "      <td>Happy,Uplifted,Relaxed,Energetic,Euphoric</td>\n",
              "      <td>Citrus, Orange, Sweet</td>\n",
              "    </tr>\n",
              "  </tbody>\n",
              "</table>\n",
              "</div>"
            ],
            "text/plain": [
              "                name  ...                        flavors\n",
              "0              Afpak  ...         Earthy, Chemical, Pine\n",
              "1            African  ...  Spicy/Herbal, Pungent, Earthy\n",
              "2  Afternoon Delight  ...          Pepper, Flowery, Pine\n",
              "3            Afwreck  ...          Pine, Earthy, Flowery\n",
              "4       Agent Orange  ...          Citrus, Orange, Sweet\n",
              "\n",
              "[5 rows x 9 columns]"
            ]
          },
          "metadata": {
            "tags": []
          },
          "execution_count": 21
        }
      ]
    },
    {
      "cell_type": "code",
      "metadata": {
        "id": "nrKL0p0ElFaf",
        "colab_type": "code",
        "colab": {
          "base_uri": "https://localhost:8080/",
          "height": 123
        },
        "outputId": "436f2122-24f1-4c56-9ce2-4ed4b6aaf5dd"
      },
      "source": [
        "df['strain_id'] = df.index"
      ],
      "execution_count": 22,
      "outputs": [
        {
          "output_type": "stream",
          "text": [
            "/usr/local/lib/python3.6/dist-packages/ipykernel_launcher.py:1: SettingWithCopyWarning: \n",
            "A value is trying to be set on a copy of a slice from a DataFrame.\n",
            "Try using .loc[row_indexer,col_indexer] = value instead\n",
            "\n",
            "See the caveats in the documentation: https://pandas.pydata.org/pandas-docs/stable/user_guide/indexing.html#returning-a-view-versus-a-copy\n",
            "  \"\"\"Entry point for launching an IPython kernel.\n"
          ],
          "name": "stderr"
        }
      ]
    },
    {
      "cell_type": "code",
      "metadata": {
        "id": "9P2RFbaelMhr",
        "colab_type": "code",
        "colab": {
          "base_uri": "https://localhost:8080/",
          "height": 293
        },
        "outputId": "10fe61b0-c3da-4ccd-d1aa-d26a6170abc1"
      },
      "source": [
        "df.head()"
      ],
      "execution_count": 23,
      "outputs": [
        {
          "output_type": "execute_result",
          "data": {
            "text/html": [
              "<div>\n",
              "<style scoped>\n",
              "    .dataframe tbody tr th:only-of-type {\n",
              "        vertical-align: middle;\n",
              "    }\n",
              "\n",
              "    .dataframe tbody tr th {\n",
              "        vertical-align: top;\n",
              "    }\n",
              "\n",
              "    .dataframe thead th {\n",
              "        text-align: right;\n",
              "    }\n",
              "</style>\n",
              "<table border=\"1\" class=\"dataframe\">\n",
              "  <thead>\n",
              "    <tr style=\"text-align: right;\">\n",
              "      <th></th>\n",
              "      <th>name</th>\n",
              "      <th>Rating</th>\n",
              "      <th>type</th>\n",
              "      <th>ailment</th>\n",
              "      <th>positive_effects</th>\n",
              "      <th>negative_effects</th>\n",
              "      <th>Description</th>\n",
              "      <th>Effects</th>\n",
              "      <th>flavors</th>\n",
              "      <th>strain_id</th>\n",
              "    </tr>\n",
              "  </thead>\n",
              "  <tbody>\n",
              "    <tr>\n",
              "      <th>0</th>\n",
              "      <td>Afpak</td>\n",
              "      <td>3.18</td>\n",
              "      <td>hybrid</td>\n",
              "      <td>Depression, Insomnia, Pain, Stress, Lack of Ap...</td>\n",
              "      <td>Relaxed, Hungry, Happy, Sleepy</td>\n",
              "      <td>Dizzy</td>\n",
              "      <td>Afpak, named for its direct Afghani and Pakist...</td>\n",
              "      <td>Relaxed,Creative,Focused,Sleepy,Happy</td>\n",
              "      <td>Earthy, Chemical, Pine</td>\n",
              "      <td>0</td>\n",
              "    </tr>\n",
              "    <tr>\n",
              "      <th>1</th>\n",
              "      <td>African</td>\n",
              "      <td>2.50</td>\n",
              "      <td>sativa</td>\n",
              "      <td>Depression, Pain, Stress, Lack of Appetite, Na...</td>\n",
              "      <td>Euphoric, Happy, Creative, Energetic, Talkative</td>\n",
              "      <td>Dry Mouth</td>\n",
              "      <td>African refers to the indigenous varieties of ...</td>\n",
              "      <td>Euphoric,Energetic,Aroused,Tingly,Creative</td>\n",
              "      <td>Spicy/Herbal, Pungent, Earthy</td>\n",
              "      <td>1</td>\n",
              "    </tr>\n",
              "    <tr>\n",
              "      <th>2</th>\n",
              "      <td>Afternoon Delight</td>\n",
              "      <td>4.55</td>\n",
              "      <td>hybrid</td>\n",
              "      <td>Depression, Insomnia, Pain, Stress, Cramps, He...</td>\n",
              "      <td>Relaxed, Hungry, Euphoric, Uplifted, Tingly</td>\n",
              "      <td>Dizzy, Dry Mouth, Paranoid</td>\n",
              "      <td>Afternoon Delight, created by Colorado Seed In...</td>\n",
              "      <td>Talkative,Relaxed,Uplifted,Tingly,Creative</td>\n",
              "      <td>Pepper, Flowery, Pine</td>\n",
              "      <td>2</td>\n",
              "    </tr>\n",
              "    <tr>\n",
              "      <th>3</th>\n",
              "      <td>Afwreck</td>\n",
              "      <td>3.18</td>\n",
              "      <td>hybrid</td>\n",
              "      <td>Pain, Stress, Headache, Fatigue, Headaches, Mu...</td>\n",
              "      <td>Relaxed, Happy, Creative, Uplifted, Sleepy</td>\n",
              "      <td>Dizzy, Dry Mouth, Paranoid, Dry Eyes</td>\n",
              "      <td>Afwreck is a hybrid cross of Afghani and Train...</td>\n",
              "      <td>Euphoric,Happy,Uplifted,Relaxed,Sleepy</td>\n",
              "      <td>Pine, Earthy, Flowery</td>\n",
              "      <td>3</td>\n",
              "    </tr>\n",
              "    <tr>\n",
              "      <th>4</th>\n",
              "      <td>Agent Orange</td>\n",
              "      <td>3.18</td>\n",
              "      <td>hybrid</td>\n",
              "      <td>Depression, Pain, Stress, Nausea, Headache, He...</td>\n",
              "      <td>Relaxed, Euphoric, Happy, Energetic, Uplifted</td>\n",
              "      <td>Dizzy, Dry Mouth, Paranoid, Dry Eyes</td>\n",
              "      <td>Don’t let the name scare you! The only herbici...</td>\n",
              "      <td>Happy,Uplifted,Relaxed,Energetic,Euphoric</td>\n",
              "      <td>Citrus, Orange, Sweet</td>\n",
              "      <td>4</td>\n",
              "    </tr>\n",
              "  </tbody>\n",
              "</table>\n",
              "</div>"
            ],
            "text/plain": [
              "                name  Rating  ...                        flavors strain_id\n",
              "0              Afpak    3.18  ...         Earthy, Chemical, Pine         0\n",
              "1            African    2.50  ...  Spicy/Herbal, Pungent, Earthy         1\n",
              "2  Afternoon Delight    4.55  ...          Pepper, Flowery, Pine         2\n",
              "3            Afwreck    3.18  ...          Pine, Earthy, Flowery         3\n",
              "4       Agent Orange    3.18  ...          Citrus, Orange, Sweet         4\n",
              "\n",
              "[5 rows x 10 columns]"
            ]
          },
          "metadata": {
            "tags": []
          },
          "execution_count": 23
        }
      ]
    },
    {
      "cell_type": "code",
      "metadata": {
        "id": "EnMxRK2qyl_7",
        "colab_type": "code",
        "colab": {
          "base_uri": "https://localhost:8080/",
          "height": 35
        },
        "outputId": "825168f6-8548-4c2f-b79f-382bcc3de239"
      },
      "source": [
        "df.shape"
      ],
      "execution_count": 24,
      "outputs": [
        {
          "output_type": "execute_result",
          "data": {
            "text/plain": [
              "(1968, 10)"
            ]
          },
          "metadata": {
            "tags": []
          },
          "execution_count": 24
        }
      ]
    },
    {
      "cell_type": "code",
      "metadata": {
        "id": "BHvyqNG46yqr",
        "colab_type": "code",
        "colab": {
          "base_uri": "https://localhost:8080/",
          "height": 211
        },
        "outputId": "4fd05c31-902f-4aa7-ff02-c05a0babea2f"
      },
      "source": [
        "df.isnull().sum()"
      ],
      "execution_count": 26,
      "outputs": [
        {
          "output_type": "execute_result",
          "data": {
            "text/plain": [
              "name                  0\n",
              "Rating              497\n",
              "type                  0\n",
              "ailment               0\n",
              "positive_effects      0\n",
              "negative_effects      0\n",
              "Description         497\n",
              "Effects             497\n",
              "flavors               0\n",
              "strain_id             0\n",
              "dtype: int64"
            ]
          },
          "metadata": {
            "tags": []
          },
          "execution_count": 26
        }
      ]
    },
    {
      "cell_type": "code",
      "metadata": {
        "id": "fHdisWld7NGE",
        "colab_type": "code",
        "colab": {}
      },
      "source": [
        "df = df.replace({'nan': np.NaN})"
      ],
      "execution_count": 27,
      "outputs": []
    },
    {
      "cell_type": "code",
      "metadata": {
        "id": "qR-tQRyk7hRt",
        "colab_type": "code",
        "colab": {
          "base_uri": "https://localhost:8080/",
          "height": 211
        },
        "outputId": "628b4508-72db-4510-e4e0-ec24bc9bb77d"
      },
      "source": [
        "df.isnull().sum()"
      ],
      "execution_count": 28,
      "outputs": [
        {
          "output_type": "execute_result",
          "data": {
            "text/plain": [
              "name                  0\n",
              "Rating              497\n",
              "type                  0\n",
              "ailment              54\n",
              "positive_effects      0\n",
              "negative_effects      0\n",
              "Description         497\n",
              "Effects             497\n",
              "flavors               0\n",
              "strain_id             0\n",
              "dtype: int64"
            ]
          },
          "metadata": {
            "tags": []
          },
          "execution_count": 28
        }
      ]
    },
    {
      "cell_type": "code",
      "metadata": {
        "id": "xxGHAxqn7ikW",
        "colab_type": "code",
        "colab": {}
      },
      "source": [
        "df = df.dropna()"
      ],
      "execution_count": 31,
      "outputs": []
    },
    {
      "cell_type": "code",
      "metadata": {
        "id": "rt-Lyn2u7p8g",
        "colab_type": "code",
        "colab": {
          "base_uri": "https://localhost:8080/",
          "height": 35
        },
        "outputId": "b439cd9d-53a9-4bda-f8a3-5a6e2f6853be"
      },
      "source": [
        "df.shape"
      ],
      "execution_count": 32,
      "outputs": [
        {
          "output_type": "execute_result",
          "data": {
            "text/plain": [
              "(1439, 10)"
            ]
          },
          "metadata": {
            "tags": []
          },
          "execution_count": 32
        }
      ]
    },
    {
      "cell_type": "code",
      "metadata": {
        "id": "ImtQVu_U7rB7",
        "colab_type": "code",
        "colab": {
          "base_uri": "https://localhost:8080/",
          "height": 211
        },
        "outputId": "e78c8e60-c269-4c3c-91a1-264982c0ff5e"
      },
      "source": [
        "df.isnull().sum()"
      ],
      "execution_count": 33,
      "outputs": [
        {
          "output_type": "execute_result",
          "data": {
            "text/plain": [
              "name                0\n",
              "Rating              0\n",
              "type                0\n",
              "ailment             0\n",
              "positive_effects    0\n",
              "negative_effects    0\n",
              "Description         0\n",
              "Effects             0\n",
              "flavors             0\n",
              "strain_id           0\n",
              "dtype: int64"
            ]
          },
          "metadata": {
            "tags": []
          },
          "execution_count": 33
        }
      ]
    },
    {
      "cell_type": "code",
      "metadata": {
        "id": "H3XcGF_X7vbu",
        "colab_type": "code",
        "colab": {}
      },
      "source": [
        "df.to_csv('cannabis_final.csv')"
      ],
      "execution_count": 39,
      "outputs": []
    },
    {
      "cell_type": "code",
      "metadata": {
        "id": "LgM80L_-8JUK",
        "colab_type": "code",
        "colab": {}
      },
      "source": [
        "weed = pd.read_csv('weed_data.csv')"
      ],
      "execution_count": 40,
      "outputs": []
    },
    {
      "cell_type": "code",
      "metadata": {
        "id": "GRN6Vuf98yu9",
        "colab_type": "code",
        "colab": {
          "base_uri": "https://localhost:8080/",
          "height": 206
        },
        "outputId": "a5fe1ab3-998b-430f-d1b7-5205a3c2b8f5"
      },
      "source": [
        "weed.head()"
      ],
      "execution_count": 41,
      "outputs": [
        {
          "output_type": "execute_result",
          "data": {
            "text/html": [
              "<div>\n",
              "<style scoped>\n",
              "    .dataframe tbody tr th:only-of-type {\n",
              "        vertical-align: middle;\n",
              "    }\n",
              "\n",
              "    .dataframe tbody tr th {\n",
              "        vertical-align: top;\n",
              "    }\n",
              "\n",
              "    .dataframe thead th {\n",
              "        text-align: right;\n",
              "    }\n",
              "</style>\n",
              "<table border=\"1\" class=\"dataframe\">\n",
              "  <thead>\n",
              "    <tr style=\"text-align: right;\">\n",
              "      <th></th>\n",
              "      <th>Unnamed: 0</th>\n",
              "      <th>name</th>\n",
              "      <th>rating</th>\n",
              "      <th>effects</th>\n",
              "      <th>description</th>\n",
              "    </tr>\n",
              "  </thead>\n",
              "  <tbody>\n",
              "    <tr>\n",
              "      <th>0</th>\n",
              "      <td>0</td>\n",
              "      <td>$100 OG</td>\n",
              "      <td>2.9</td>\n",
              "      <td>['Euphoric', ' Creative ', ' Happy ']</td>\n",
              "      <td>$100 OG is a hybrid cannabis strain that origi...</td>\n",
              "    </tr>\n",
              "    <tr>\n",
              "      <th>1</th>\n",
              "      <td>1</td>\n",
              "      <td>'98 Aloha White Widow</td>\n",
              "      <td>4.8</td>\n",
              "      <td>['Relaxed', ' Happy ', ' Euphoric ']</td>\n",
              "      <td>The ‘98 Aloha White Widow is an especially pot...</td>\n",
              "    </tr>\n",
              "    <tr>\n",
              "      <th>2</th>\n",
              "      <td>2</td>\n",
              "      <td>1024</td>\n",
              "      <td>4.5</td>\n",
              "      <td>['Happy', ' Relaxed ', ' Uplifted ']</td>\n",
              "      <td>1024 is a sativa-dominant hybrid bred in Spain...</td>\n",
              "    </tr>\n",
              "    <tr>\n",
              "      <th>3</th>\n",
              "      <td>3</td>\n",
              "      <td>10th Planet</td>\n",
              "      <td>5.0</td>\n",
              "      <td>['']</td>\n",
              "      <td>Ethos Genetics crossed Planet of the Grapes an...</td>\n",
              "    </tr>\n",
              "    <tr>\n",
              "      <th>4</th>\n",
              "      <td>4</td>\n",
              "      <td>12 Year OG</td>\n",
              "      <td>3.0</td>\n",
              "      <td>['Happy', ' Relaxed ', ' Creative ']</td>\n",
              "      <td>The Bank Cannabis Genetics crossed some unknow...</td>\n",
              "    </tr>\n",
              "  </tbody>\n",
              "</table>\n",
              "</div>"
            ],
            "text/plain": [
              "   Unnamed: 0  ...                                        description\n",
              "0           0  ...  $100 OG is a hybrid cannabis strain that origi...\n",
              "1           1  ...  The ‘98 Aloha White Widow is an especially pot...\n",
              "2           2  ...  1024 is a sativa-dominant hybrid bred in Spain...\n",
              "3           3  ...  Ethos Genetics crossed Planet of the Grapes an...\n",
              "4           4  ...  The Bank Cannabis Genetics crossed some unknow...\n",
              "\n",
              "[5 rows x 5 columns]"
            ]
          },
          "metadata": {
            "tags": []
          },
          "execution_count": 41
        }
      ]
    },
    {
      "cell_type": "code",
      "metadata": {
        "id": "WWZ6DDSJ8zUv",
        "colab_type": "code",
        "colab": {
          "base_uri": "https://localhost:8080/",
          "height": 35
        },
        "outputId": "048d819b-17ae-4e71-d0db-8aa76b6dde41"
      },
      "source": [
        "weed.shape"
      ],
      "execution_count": 42,
      "outputs": [
        {
          "output_type": "execute_result",
          "data": {
            "text/plain": [
              "(3449, 5)"
            ]
          },
          "metadata": {
            "tags": []
          },
          "execution_count": 42
        }
      ]
    },
    {
      "cell_type": "code",
      "metadata": {
        "id": "QUSSSqUb80L0",
        "colab_type": "code",
        "colab": {}
      },
      "source": [
        ""
      ],
      "execution_count": null,
      "outputs": []
    }
  ]
}